{
 "cells": [
  {
   "cell_type": "code",
   "execution_count": 1,
   "id": "9daa91be",
   "metadata": {},
   "outputs": [],
   "source": [
    "import pandas as pd\n",
    "from sklearn.linear_model import LinearRegression\n",
    "from sklearn.metrics import mean_squared_error\n",
    "from sklearn.model_selection import train_test_split\n",
    "import matplotlib.pyplot as plt\n",
    "from IPython.display import display\n",
    "import ipywidgets as widgets"
   ]
  },
  {
   "cell_type": "code",
   "execution_count": 2,
   "id": "92025da5",
   "metadata": {},
   "outputs": [],
   "source": [
    "# Load the data into a pandas DataFrame\n",
    "data = pd.read_csv('TRANSCO.csv') # Replace 'stock_data.csv' with your data file\n"
   ]
  },
  {
   "cell_type": "code",
   "execution_count": 3,
   "id": "add6063d",
   "metadata": {},
   "outputs": [],
   "source": [
    "# Assuming the columns are named 'Date', 'Open', 'Close', 'High', 'Low', 'Volume'\n",
    "data['Date'] = pd.to_datetime(data['Date']) # Convert 'Date' column to datetime if needed\n",
    "data = data.sort_values('Date') # Sort the data by date\n"
   ]
  },
  {
   "cell_type": "code",
   "execution_count": 4,
   "id": "9e5f1cea",
   "metadata": {},
   "outputs": [],
   "source": [
    "data['NextDayClose'] = data['Close'].shift(-1)\n",
    "data['NextDayPrice'] = data['NextDayClose'] - data['Close']\n",
    "data['NextDayPercentageChange'] = (data['NextDayClose'] - data['Close']) / data['Close'] * 100"
   ]
  },
  {
   "cell_type": "code",
   "execution_count": 5,
   "id": "220dac83",
   "metadata": {},
   "outputs": [],
   "source": [
    "# Split the data into training and testing sets\n",
    "X = data[['Open', 'Close', 'High', 'Low', 'Vol(millions)']].values[:-1]\n",
    "y = data[['NextDayClose', 'NextDayPrice', 'NextDayPercentageChange']].values[:-1]\n"
   ]
  },
  {
   "cell_type": "code",
   "execution_count": 6,
   "id": "d8534d5c",
   "metadata": {},
   "outputs": [],
   "source": [
    "X_train, X_test, y_train, y_test = train_test_split(X, y, test_size=0.2, shuffle=False)"
   ]
  },
  {
   "cell_type": "code",
   "execution_count": 7,
   "id": "32683ed3",
   "metadata": {},
   "outputs": [
    {
     "data": {
      "text/plain": [
       "LinearRegression()"
      ]
     },
     "execution_count": 7,
     "metadata": {},
     "output_type": "execute_result"
    }
   ],
   "source": [
    "# Train the linear regression model\n",
    "model = LinearRegression()\n",
    "model.fit(X_train, y_train)"
   ]
  },
  {
   "cell_type": "code",
   "execution_count": 8,
   "id": "468ea843",
   "metadata": {},
   "outputs": [],
   "source": [
    "# Evaluate the model on the testing set\n",
    "y_pred = model.predict(X_test)\n",
    "mse = mean_squared_error(y_test, y_pred)\n",
    "rmse = mean_squared_error(y_test, y_pred, squared=False)"
   ]
  },
  {
   "cell_type": "code",
   "execution_count": 9,
   "id": "242e2785",
   "metadata": {},
   "outputs": [
    {
     "name": "stdout",
     "output_type": "stream",
     "text": [
      "Mean Squared Error: 3.88\n",
      "Root Mean Squared Error: 1.19\n"
     ]
    }
   ],
   "source": [
    "print(f\"Mean Squared Error: {mse:.2f}\")\n",
    "print(f\"Root Mean Squared Error: {rmse:.2f}\")\n"
   ]
  },
  {
   "cell_type": "code",
   "execution_count": 10,
   "id": "e25e103b",
   "metadata": {},
   "outputs": [
    {
     "name": "stderr",
     "output_type": "stream",
     "text": [
      "C:\\Users\\servicedesk1\\Anaconda3\\lib\\site-packages\\sklearn\\base.py:566: FutureWarning: Arrays of bytes/strings is being converted to decimal numbers if dtype='numeric'. This behavior is deprecated in 0.24 and will be removed in 1.1 (renaming of 0.26). Please convert your data to numeric values explicitly instead.\n",
      "  X = check_array(X, **check_params)\n"
     ]
    }
   ],
   "source": [
    "# Forecast tomorrow's close price, price, and percentage change\n",
    "last_data = data.iloc[-1][['Open', 'Close', 'High', 'Low', 'Vol(millions)']].values\n",
    "prediction = model.predict([last_data])\n",
    "next_day_close = prediction[0][0]\n",
    "next_day_price = prediction[0][1]\n",
    "next_day_percentage_change = prediction[0][2]"
   ]
  },
  {
   "cell_type": "code",
   "execution_count": 11,
   "id": "32828c00",
   "metadata": {},
   "outputs": [
    {
     "name": "stdout",
     "output_type": "stream",
     "text": [
      "Tomorrow's Close Price Prediction: 3.27\n",
      "Tomorrow's Percentage Change Prediction: -4.93%\n"
     ]
    }
   ],
   "source": [
    "print(f\"Tomorrow's Close Price Prediction: {next_day_close:.2f}\")\n",
    "#print(f\"Tomorrow's Price Prediction: {next_day_price:.2f}\")\n",
    "print(f\"Tomorrow's Percentage Change Prediction: {next_day_percentage_change:.2f}%\")"
   ]
  },
  {
   "cell_type": "code",
   "execution_count": 12,
   "id": "2daac44f",
   "metadata": {},
   "outputs": [
    {
     "data": {
      "application/vnd.jupyter.widget-view+json": {
       "model_id": "c8a7046e5bb54ea88328a3ea1596295e",
       "version_major": 2,
       "version_minor": 0
      },
      "text/plain": [
       "interactive(children=(Dropdown(description='Interval:', index=1, options=('Hourly', 'Daily', 'Monthly', 'Yearl…"
      ]
     },
     "metadata": {},
     "output_type": "display_data"
    }
   ],
   "source": [
    "# Convert the 'Date' column to datetime format\n",
    "data['Date'] = pd.to_datetime(data['Date'])\n",
    "\n",
    "# Set the 'Date' column as the index\n",
    "data.set_index('Date', inplace=True)\n",
    "\n",
    "# Create a filter dropdown for selecting the time interval\n",
    "interval_dropdown = widgets.Dropdown(\n",
    "    options=['Hourly', 'Daily', 'Monthly', 'Yearly'],\n",
    "    value='Daily',\n",
    "    description='Interval:'\n",
    ")\n",
    "\n",
    "# Define a function to update the plot based on the selected time interval\n",
    "def update_plot(interval):\n",
    "    if interval == 'Hourly':\n",
    "        resampled_data = data.resample('H').mean()\n",
    "    elif interval == 'Daily':\n",
    "        resampled_data = data.resample('D').mean()\n",
    "    elif interval == 'Monthly':\n",
    "        resampled_data = data.resample('M').mean()\n",
    "    else:\n",
    "        resampled_data = data.resample('Y').mean()\n",
    "\n",
    "    plt.figure(figsize=(12, 6))\n",
    "    plt.plot(resampled_data.index, resampled_data['Close'], label=f'{interval} Close Price')\n",
    "    plt.axvline(x=data.index[-1], color='r', linestyle='--', label='Last Data Point')\n",
    "    plt.plot(data.index[-1], next_day_close, 'go', markersize=8, label='Next Day Prediction')\n",
    "\n",
    "    plt.xlabel('Date')\n",
    "    plt.ylabel('Close Price')\n",
    "    plt.title('Close Price with Predicted Values')\n",
    "\n",
    "    plt.legend()\n",
    "    plt.grid(True)\n",
    "    plt.show()\n",
    "\n",
    "# Connect the filter dropdown to the update function\n",
    "widgets.interactive(update_plot, interval=interval_dropdown)\n"
   ]
  },
  {
   "cell_type": "code",
   "execution_count": 237,
   "id": "35e0ea3b",
   "metadata": {},
   "outputs": [
    {
     "data": {
      "text/html": [
       "<div>\n",
       "<style scoped>\n",
       "    .dataframe tbody tr th:only-of-type {\n",
       "        vertical-align: middle;\n",
       "    }\n",
       "\n",
       "    .dataframe tbody tr th {\n",
       "        vertical-align: top;\n",
       "    }\n",
       "\n",
       "    .dataframe thead th {\n",
       "        text-align: right;\n",
       "    }\n",
       "</style>\n",
       "<table border=\"1\" class=\"dataframe\">\n",
       "  <thead>\n",
       "    <tr style=\"text-align: right;\">\n",
       "      <th></th>\n",
       "      <th>Close</th>\n",
       "      <th>Open</th>\n",
       "      <th>High</th>\n",
       "      <th>Low</th>\n",
       "      <th>Vol(millions)</th>\n",
       "      <th>NextDayClose</th>\n",
       "      <th>NextDayPrice</th>\n",
       "      <th>NextDayPercentageChange</th>\n",
       "    </tr>\n",
       "    <tr>\n",
       "      <th>Date</th>\n",
       "      <th></th>\n",
       "      <th></th>\n",
       "      <th></th>\n",
       "      <th></th>\n",
       "      <th></th>\n",
       "      <th></th>\n",
       "      <th></th>\n",
       "      <th></th>\n",
       "    </tr>\n",
       "  </thead>\n",
       "  <tbody>\n",
       "    <tr>\n",
       "      <th>2023-07-03</th>\n",
       "      <td>3.86</td>\n",
       "      <td>3.51</td>\n",
       "      <td>3.86</td>\n",
       "      <td>3.55</td>\n",
       "      <td>74.96</td>\n",
       "      <td>3.48</td>\n",
       "      <td>-0.38</td>\n",
       "      <td>-9.844560</td>\n",
       "    </tr>\n",
       "    <tr>\n",
       "      <th>2023-07-04</th>\n",
       "      <td>3.48</td>\n",
       "      <td>3.86</td>\n",
       "      <td>4.20</td>\n",
       "      <td>3.48</td>\n",
       "      <td>105.87</td>\n",
       "      <td>3.63</td>\n",
       "      <td>0.15</td>\n",
       "      <td>4.310345</td>\n",
       "    </tr>\n",
       "    <tr>\n",
       "      <th>2023-07-05</th>\n",
       "      <td>3.63</td>\n",
       "      <td>3.48</td>\n",
       "      <td>3.70</td>\n",
       "      <td>3.48</td>\n",
       "      <td>89.23</td>\n",
       "      <td>3.76</td>\n",
       "      <td>0.13</td>\n",
       "      <td>3.581267</td>\n",
       "    </tr>\n",
       "    <tr>\n",
       "      <th>2023-07-06</th>\n",
       "      <td>3.76</td>\n",
       "      <td>3.63</td>\n",
       "      <td>3.83</td>\n",
       "      <td>3.65</td>\n",
       "      <td>49.18</td>\n",
       "      <td>4.13</td>\n",
       "      <td>0.37</td>\n",
       "      <td>9.840426</td>\n",
       "    </tr>\n",
       "    <tr>\n",
       "      <th>2023-07-07</th>\n",
       "      <td>4.13</td>\n",
       "      <td>3.76</td>\n",
       "      <td>4.13</td>\n",
       "      <td>3.82</td>\n",
       "      <td>79.65</td>\n",
       "      <td>NaN</td>\n",
       "      <td>NaN</td>\n",
       "      <td>NaN</td>\n",
       "    </tr>\n",
       "  </tbody>\n",
       "</table>\n",
       "</div>"
      ],
      "text/plain": [
       "            Close  Open  High   Low  Vol(millions)  NextDayClose  \\\n",
       "Date                                                               \n",
       "2023-07-03   3.86  3.51  3.86  3.55          74.96          3.48   \n",
       "2023-07-04   3.48  3.86  4.20  3.48         105.87          3.63   \n",
       "2023-07-05   3.63  3.48  3.70  3.48          89.23          3.76   \n",
       "2023-07-06   3.76  3.63  3.83  3.65          49.18          4.13   \n",
       "2023-07-07   4.13  3.76  4.13  3.82          79.65           NaN   \n",
       "\n",
       "            NextDayPrice  NextDayPercentageChange  \n",
       "Date                                               \n",
       "2023-07-03         -0.38                -9.844560  \n",
       "2023-07-04          0.15                 4.310345  \n",
       "2023-07-05          0.13                 3.581267  \n",
       "2023-07-06          0.37                 9.840426  \n",
       "2023-07-07           NaN                      NaN  "
      ]
     },
     "execution_count": 237,
     "metadata": {},
     "output_type": "execute_result"
    }
   ],
   "source": [
    "data.tail()"
   ]
  },
  {
   "cell_type": "code",
   "execution_count": null,
   "id": "0867a2c2",
   "metadata": {},
   "outputs": [],
   "source": []
  }
 ],
 "metadata": {
  "kernelspec": {
   "display_name": "Python 3 (ipykernel)",
   "language": "python",
   "name": "python3"
  },
  "language_info": {
   "codemirror_mode": {
    "name": "ipython",
    "version": 3
   },
   "file_extension": ".py",
   "mimetype": "text/x-python",
   "name": "python",
   "nbconvert_exporter": "python",
   "pygments_lexer": "ipython3",
   "version": "3.9.13"
  }
 },
 "nbformat": 4,
 "nbformat_minor": 5
}
